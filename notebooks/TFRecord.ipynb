{
 "cells": [
  {
   "cell_type": "code",
   "execution_count": 1,
   "metadata": {},
   "outputs": [],
   "source": [
    "import numpy as np\n",
    "import os\n",
    "import argparse\n",
    "import matplotlib.pyplot as plt\n",
    "\n",
    "import pandas as pd\n",
    "import numpy as np\n",
    "import cv2\n",
    "import tensorflow as tf"
   ]
  },
  {
   "cell_type": "code",
   "execution_count": 2,
   "metadata": {},
   "outputs": [],
   "source": [
    "MODEL_DIR = \"../assets/models/\"\n",
    "DATA_DIR = \"../assets/data/\"\n",
    "LABELS_FILE = os.path.join(DATA_DIR, \"labels.txt\")\n",
    "IMAGES_DIR = os.path.join(DATA_DIR, \"samples\")"
   ]
  },
  {
   "cell_type": "code",
   "execution_count": 3,
   "metadata": {},
   "outputs": [
    {
     "data": {
      "text/html": [
       "<div>\n",
       "<style scoped>\n",
       "    .dataframe tbody tr th:only-of-type {\n",
       "        vertical-align: middle;\n",
       "    }\n",
       "\n",
       "    .dataframe tbody tr th {\n",
       "        vertical-align: top;\n",
       "    }\n",
       "\n",
       "    .dataframe thead th {\n",
       "        text-align: right;\n",
       "    }\n",
       "</style>\n",
       "<table border=\"1\" class=\"dataframe\">\n",
       "  <thead>\n",
       "    <tr style=\"text-align: right;\">\n",
       "      <th></th>\n",
       "      <th>filename</th>\n",
       "      <th>x_centre</th>\n",
       "      <th>y_centre</th>\n",
       "      <th>width</th>\n",
       "      <th>height</th>\n",
       "      <th>confidence</th>\n",
       "    </tr>\n",
       "  </thead>\n",
       "  <tbody>\n",
       "    <tr>\n",
       "      <th>0</th>\n",
       "      <td>sample_0.JPEG</td>\n",
       "      <td>0.832812</td>\n",
       "      <td>0.080220</td>\n",
       "      <td>0.265625</td>\n",
       "      <td>0.182418</td>\n",
       "      <td>1</td>\n",
       "    </tr>\n",
       "    <tr>\n",
       "      <th>1</th>\n",
       "      <td>sample_1.JPEG</td>\n",
       "      <td>0.573438</td>\n",
       "      <td>0.295604</td>\n",
       "      <td>0.265625</td>\n",
       "      <td>0.182418</td>\n",
       "      <td>1</td>\n",
       "    </tr>\n",
       "    <tr>\n",
       "      <th>2</th>\n",
       "      <td>sample_2.JPEG</td>\n",
       "      <td>0.348438</td>\n",
       "      <td>0.519780</td>\n",
       "      <td>0.265625</td>\n",
       "      <td>0.182418</td>\n",
       "      <td>1</td>\n",
       "    </tr>\n",
       "    <tr>\n",
       "      <th>3</th>\n",
       "      <td>sample_3.JPEG</td>\n",
       "      <td>0.000000</td>\n",
       "      <td>0.000000</td>\n",
       "      <td>0.000000</td>\n",
       "      <td>0.000000</td>\n",
       "      <td>0</td>\n",
       "    </tr>\n",
       "    <tr>\n",
       "      <th>4</th>\n",
       "      <td>sample_4.JPEG</td>\n",
       "      <td>0.810937</td>\n",
       "      <td>0.941758</td>\n",
       "      <td>0.265625</td>\n",
       "      <td>0.182418</td>\n",
       "      <td>1</td>\n",
       "    </tr>\n",
       "  </tbody>\n",
       "</table>\n",
       "</div>"
      ],
      "text/plain": [
       "        filename  x_centre  y_centre     width    height  confidence\n",
       "0  sample_0.JPEG  0.832812  0.080220  0.265625  0.182418           1\n",
       "1  sample_1.JPEG  0.573438  0.295604  0.265625  0.182418           1\n",
       "2  sample_2.JPEG  0.348438  0.519780  0.265625  0.182418           1\n",
       "3  sample_3.JPEG  0.000000  0.000000  0.000000  0.000000           0\n",
       "4  sample_4.JPEG  0.810937  0.941758  0.265625  0.182418           1"
      ]
     },
     "execution_count": 3,
     "metadata": {},
     "output_type": "execute_result"
    }
   ],
   "source": [
    "df = pd.read_csv(LABELS_FILE, delim_whitespace=True)\n",
    "df.head()"
   ]
  },
  {
   "cell_type": "code",
   "execution_count": 4,
   "metadata": {},
   "outputs": [],
   "source": [
    "data = df.to_numpy()"
   ]
  },
  {
   "cell_type": "code",
   "execution_count": 5,
   "metadata": {},
   "outputs": [],
   "source": [
    "# The following functions can be used to convert a value to a type compatible\n",
    "# with tf.train.Example.\n",
    "\n",
    "def _bytes_feature(value):\n",
    "  \"\"\"Returns a bytes_list from a string / byte.\"\"\"\n",
    "  if isinstance(value, type(tf.constant(0))):\n",
    "    value = value.numpy() # BytesList won't unpack a string from an EagerTensor.\n",
    "  return tf.train.Feature(bytes_list=tf.train.BytesList(value=[value]))\n",
    "\n",
    "def _float_feature(value):\n",
    "  \"\"\"Returns a float_list from a float / double.\"\"\"\n",
    "  return tf.train.Feature(float_list=tf.train.FloatList(value=[value]))\n",
    "\n",
    "def _int64_feature(value):\n",
    "  \"\"\"Returns an int64_list from a bool / enum / int / uint.\"\"\"\n",
    "  return tf.train.Feature(int64_list=tf.train.Int64List(value=[value]))"
   ]
  },
  {
   "cell_type": "code",
   "execution_count": 6,
   "metadata": {},
   "outputs": [],
   "source": [
    "def serialize_example(image, image_name, x_center, y_center, confidence):\n",
    "    \"\"\"\n",
    "    Creates a tf.train.Example message ready to be written to a file.\n",
    "    \"\"\"\n",
    "    # Create a dictionary mapping the feature name to the tf.train.Example-compatible\n",
    "    # data type.\n",
    "    feature = {\n",
    "      'image': _bytes_feature(image),\n",
    "      'image_name': _bytes_feature(image_name),\n",
    "      'x_center': _float_feature(x_center),\n",
    "      'y_center': _float_feature(y_center),\n",
    "      'confidence': _float_feature(confidence)\n",
    "    }\n",
    "\n",
    "    # Create a Features message using tf.train.Example.\n",
    "\n",
    "    example_proto = tf.train.Example(features=tf.train.Features(feature=feature))\n",
    "    return example_proto.SerializeToString()"
   ]
  },
  {
   "cell_type": "code",
   "execution_count": 7,
   "metadata": {},
   "outputs": [],
   "source": [
    "RECORD_PATH = \"../assets/data/records/\"\n",
    "os.makedirs(RECORD_PATH, exist_ok=True)"
   ]
  },
  {
   "cell_type": "code",
   "execution_count": 12,
   "metadata": {},
   "outputs": [
    {
     "data": {
      "text/plain": [
       "<matplotlib.image.AxesImage at 0x7fa0298f23d0>"
      ]
     },
     "execution_count": 12,
     "metadata": {},
     "output_type": "execute_result"
    },
    {
     "data": {
      "image/png": "[encoded data removed]",
      "text/plain": [
       "<Figure size 432x288 with 1 Axes>"
      ]
     },
     "metadata": {
      "needs_background": "light"
     },
     "output_type": "display_data"
    }
   ],
   "source": [
    "im = cv2.imread(\"../assets/data/samples/sample_0.JPEG\")\n",
    "im = cv2.cvtColor(im, cv2.COLOR_RGB2BGR)\n",
    "plt.imshow(im)"
   ]
  },
  {
   "cell_type": "code",
   "execution_count": 9,
   "metadata": {
    "scrolled": true
   },
   "outputs": [
    {
     "name": "stdout",
     "output_type": "stream",
     "text": [
      "Writing record 182/200\n",
      "Writing record 183/200\n",
      "Writing record 184/200\n",
      "Writing record 185/200\n",
      "Writing record 186/200\n",
      "Writing record 187/200\n",
      "Writing record 188/200\n",
      "Writing record 189/200\n",
      "Writing record 190/200\n",
      "Writing record 191/200\n",
      "Writing record 192/200\n",
      "Writing record 193/200\n",
      "Writing record 194/200\n",
      "Writing record 195/200\n",
      "Writing record 196/200\n",
      "Writing record 197/200\n",
      "Writing record 198/200\n",
      "Writing record 199/200\n",
      "record   199 ex   990\r"
     ]
    }
   ],
   "source": [
    "RECORD_SIZE = 10000\n",
    "\n",
    "TOTAL_IMAGES = len(data)\n",
    "TOTAL_RECORDS = TOTAL_IMAGES // RECORD_SIZE\n",
    "for i in range(TOTAL_RECORDS):\n",
    "    print(f'Writing record {i:3d}/{TOTAL_RECORDS}')\n",
    "    filename = f\"images-{i:02d}.tfrec\"\n",
    "    \n",
    "    record_size = min(RECORD_SIZE, TOTAL_IMAGES-i*RECORD_SIZE)\n",
    "    \n",
    "    with tf.io.TFRecordWriter(os.path.join(RECORD_PATH, filename)) as writer:\n",
    "        for j in range(record_size):\n",
    "            idx = i*RECORD_SIZE + j\n",
    "            filename, x_center, y_center, width, height, confidence = data[idx]\n",
    "            \n",
    "            img = cv2.imread(os.path.join(IMAGES_DIR, filename))\n",
    "            img = cv2.cvtColor(img, cv2.COLOR_RGB2BGR) \n",
    "            img = cv2.imencode('.jpg', img, (cv2.IMWRITE_JPEG_QUALITY, 94))[1].tostring()\n",
    "            \n",
    "            name = filename.split('.')[0]\n",
    "            example = serialize_example(\n",
    "                img, \n",
    "                str.encode(name),\n",
    "                x_center,\n",
    "                y_center,\n",
    "                confidence)\n",
    "            writer.write(example)\n",
    "            if j % 10 == 0: \n",
    "                print(f'image {j:5d}/{RECORD_SIZE}\\r', end='')"
   ]
  },
  {
   "cell_type": "code",
   "execution_count": null,
   "metadata": {},
   "outputs": [],
   "source": []
  }
 ],
 "metadata": {
  "kernelspec": {
   "display_name": "Python 3",
   "language": "python",
   "name": "python3"
  },
  "language_info": {
   "codemirror_mode": {
    "name": "ipython",
    "version": 3
   },
   "file_extension": ".py",
   "mimetype": "text/x-python",
   "name": "python",
   "nbconvert_exporter": "python",
   "pygments_lexer": "ipython3",
   "version": "3.7.6"
  }
 },
 "nbformat": 4,
 "nbformat_minor": 4
}
